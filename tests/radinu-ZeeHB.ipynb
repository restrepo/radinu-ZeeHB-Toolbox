{
 "cells": [
  {
   "cell_type": "markdown",
   "metadata": {},
   "source": [
    "#  Modelo de ZeeHB"
   ]
  },
  {
   "cell_type": "markdown",
   "metadata": {},
   "source": [
    "Sample of notebook for specific model"
   ]
  },
  {
   "cell_type": "code",
   "execution_count": 1,
   "metadata": {
    "collapsed": false
   },
   "outputs": [
    {
     "name": "stdout",
     "output_type": "stream",
     "text": [
      "Populating the interactive namespace from numpy and matplotlib\n"
     ]
    }
   ],
   "source": [
    "%pylab inline"
   ]
  },
  {
   "cell_type": "code",
   "execution_count": 2,
   "metadata": {
    "collapsed": false
   },
   "outputs": [],
   "source": [
    "import pandas as pd\n",
    "import numpy as np\n",
    "import os, sys, inspect\n",
    "import commands\n",
    "from hep import *"
   ]
  },
  {
   "cell_type": "code",
   "execution_count": 3,
   "metadata": {
    "collapsed": true
   },
   "outputs": [],
   "source": [
    "import hep as hp\n",
    "def Kappa(s2phi,M1,M2):\n",
    "    return s2phi*np.log(M2**2/M1**2)/(4.*np.pi)**2\n",
    "\n",
    "def Inverse_Zee_Matrix(kappa,ml,IH=False,sgnm2=-1,sgnml=1):\n",
    "    \"\"\"Inverse neutrino mass matrix normalized by kappa from\n",
    "        Mnu_diag=U^T.(kappa Y).U\n",
    "        ,\n",
    "        (Inverse_Zee_Matrix) = U. Mnu_diag.U^T/kappa\n",
    "        sgnm2=-1 guarantees real Yukawa couplings\n",
    "        \n",
    "    requires hep.py:\n",
    "       https://github.com/restrepo/BSM-Toolbox/blob/master/tests/hep.py\n",
    "    \"\"\"\n",
    "    if not IH:\n",
    "        mltmp,Dm21_2,Dm3l_2,theta12,theta23,theta13,delta=hp.neutrino_data()\n",
    "        U=hp.UPMNS(theta12[1],theta13[1],theta23[1])\n",
    "        m1=ml; m2=sgnm2*np.sqrt(Dm21_2[1]+m1**2); m3=sgnml*np.sqrt(Dm3l_2[1]+m1**2)\n",
    "    else:\n",
    "        mltmp,Dm21_2,Dm3l_2,theta12,theta23,theta13,delta=hp.neutrino_data(IH=True)\n",
    "        U=hp.UPMNS(theta12[1],theta13[1],theta23[1])\n",
    "        #DEBUG signs\n",
    "        m3=ml; m2=sgnm2*np.sqrt(Dm3l_2[1]-m3**2); m1=signml*np.sqrt(Dm21_2[1]-m2**2)\n",
    "        \n",
    "    return np.dot( np.dot( U,np.diag([m1,m2,m3]) ), U.transpose() )/kappa\n",
    "\n",
    "def get_yukawas(X,q01=1e-3,q02=1e-6,q10=200e-3,q12=0,q21=-1e-5,q22=0,m_e=0.5109989461e-3,m_mu=0.1056583745,m_tau=1.77686):\n",
    "    \"\"\"\n",
    "    Get the O and f full Yukawa mass matrices which define the neutrino mass matrix in the Zee model\n",
    "      Mnu=kappa*(O.M_lep.f^T+f.M_lep.O^T)\n",
    "    where M_lep is the diagonal matrix with the charged leptons\n",
    "    \n",
    "    The input X is the output of the `def Inverse_Zee_Matrix(...)` in this module\n",
    "    \"\"\"\n",
    "    import numpy.lib.scimath as sc # .sqrt -> returns complex for sqrt(negative real)\n",
    "    ml=np.array([m_e,m_mu,m_tau])\n",
    "    Q=np.zeros((3,3))\n",
    "    f=np.zeros((3,3))\n",
    "    Q[0,1]=q01;Q[0,2]=q02;Q[1,0]=q10;Q[1,2]=q12;Q[2,1]=q21;Q[2,2]=q22\n",
    "    Q[2,0]=( -(ml[0]**3*Q[1,0]**2*X[0,0]**2*(ml[1]*Q[2,1]*X[0,1] + ml[2]*Q[0,2]*X[2,2])) -\\\n",
    "      ml[0]*(ml[1]*Q[2,1]*X[1,1] + ml[2]*Q[1,2]*X[2,2])*(ml[1]*Q[0,1]*((ml[1]*Q[0,1]*X[0,1] +\\\n",
    "      ml[2]*Q[0,2]*X[0,2])*X[1,1] + ml[2]*Q[1,2]*X[0,0]*X[1,2]) +\\\n",
    "      ml[2]**2*Q[0,2]*Q[1,2]*X[0,0]*X[2,2]) + ml[0]**2*Q[1,0]*X[0,0]*(-(ml[1]*Q[2,1]*((2*ml[1]*Q[0,1]*X[0,1] +\\\n",
    "      ml[2]*Q[0,2]*X[0,2])*X[1,1] + ml[2]*Q[1,2]*X[0,0]*X[1,2])) -\\\n",
    "      ml[2]*(2*ml[2]*Q[0,2]*Q[1,2]*X[0,2] + ml[1]*Q[0,1]*(Q[1,2]*X[0,1] + Q[0,2]*X[1,1]))*X[2,2]) +\\\n",
    "      np.sqrt( -(ml[0]**2*ml[1]**2*(ml[0]*Q[1,0]*Q[2,1]*X[0,0] + Q[0,1]*(ml[1]*Q[2,1]*X[1,1] +\\\n",
    "      ml[2]*Q[1,2]*X[2,2]))**2*(ml[0]**2*Q[1,0]**2*X[0,0]**2*(-X[0,1]**2 + X[0,0]*X[1,1]) +\\\n",
    "      ml[1]**2*Q[0,1]**2*X[1,1]**2*(-X[0,1]**2 + X[0,0]*X[1,1]) +\\\n",
    "      2*ml[1]*ml[2]*Q[0,1]*X[1,1]*((Q[1,2]*X[0,0] - Q[0,2]*X[0,1])*X[0,2]*X[1,1] + X[0,0]*(-(Q[1,2]*X[0,1]) +\\\n",
    "      Q[0,2]*X[1,1])*X[1,2]) + 2*ml[0]*Q[1,0]*X[0,0]*(X[1,1]*(ml[2]*(Q[1,2]*X[0,0] - Q[0,2]*X[0,1])*X[0,2] +\\\n",
    "      ml[1]*Q[0,1]*(-X[0,1]**2 + X[0,0]*X[1,1])) + ml[2]*X[0,0]*(-(Q[1,2]*X[0,1]) + Q[0,2]*X[1,1])*X[1,2]) +\\\n",
    "      ml[2]**2*(-(Q[0,2]*X[0,2]*X[1,1] - Q[1,2]*X[0,0]*X[1,2])**2 + X[0,0]*X[1,1]*(Q[1,2]**2*X[0,0] -\\\n",
    "      2*Q[0,2]*Q[1,2]*X[0,1] + Q[0,2]**2*X[1,1])*X[2,2])))    )   )/\\\n",
    "      (ml[0]**2*X[0,0]*((ml[0]*Q[1,0]*X[0,0] + ml[1]*Q[0,1]*X[1,1])*(ml[0]*Q[1,0]*X[0,0] +\\\n",
    "       2*ml[2]*Q[1,2]*X[0,2] + ml[1]*Q[0,1]*X[1,1]) + ml[2]**2*Q[1,2]**2*X[0,0]*X[2,2]))\n",
    "\n",
    "    Q[0,0]=(ml[0]**2*Q[0,1]*Q[1,0]*Q[2,0]*X[0,0] - ml[2]*(Q[0,2]*Q[2,1] -\\\n",
    "        Q[0,1]*Q[2,2])*(ml[1]*Q[2,1]*X[1,1] + ml[2]*Q[1,2]*X[2,2]) +\\\n",
    "        ml[0]*(ml[1]*Q[0,1]**2*Q[2,0]*X[1,1] + ml[2]*(Q[1,2]*Q[2,0]*(-(Q[2,1]*X[0,0]) +\\\n",
    "        2*Q[0,1]*X[0,2]) + Q[1,0]*(Q[2,1]*(Q[2,2]*X[0,0] - 2*Q[0,2]*X[0,2]) +\\\n",
    "        Q[0,1]*Q[0,2]*X[2,2]))))/(ml[0]*(ml[0]*Q[1,0]*Q[2,1]*X[0,0] +\\\n",
    "        Q[0,1]*(ml[1]*Q[2,1]*X[1,1] + ml[2]*Q[1,2]*X[2,2])))\n",
    "    \n",
    "    Q[1,1]=(ml[0]**3*Q[1,0]*Q[2,0]*(Q[0,1]*Q[1,2]*Q[2,0] - Q[0,2]*Q[1,0]*Q[2,1])*X[0,0]**2 +\\\n",
    "        ml[0]*(2*ml[1]*Q[0,1]*(Q[0,1]*Q[1,2]*Q[2,0]*X[0,1] + Q[1,0]*Q[2,1]*(Q[1,2]*X[0,0] -\\\n",
    "        Q[0,2]*X[0,1])) + ml[2]*(Q[0,1]*Q[1,2]*Q[2,0]*Q[2,2]*X[0,0] -\\\n",
    "        2*Q[0,2]**2*Q[1,0]*Q[2,1]*X[0,2] + Q[0,2]*(Q[1,0]*Q[2,1]*Q[2,2]*X[0,0] +\\\n",
    "        2*Q[1,2]*Q[2,0]*(-(Q[2,1]*X[0,0]) + Q[0,1]*X[0,2]))))*(ml[1]*Q[2,1]*X[1,1] +\\\n",
    "        ml[2]*Q[1,2]*X[2,2]) + (ml[1]*Q[0,1]**2*Q[1,2] + ml[2]*Q[0,2]*(-(Q[0,2]*Q[2,1]) +\\\n",
    "        Q[0,1]*Q[2,2]))*(ml[1]*Q[2,1]*X[1,1] + ml[2]*Q[1,2]*X[2,2])**2 +\\\n",
    "        ml[0]**2*X[0,0]*(ml[1]*(Q[1,0]**2*Q[2,1]**2*(Q[1,2]*X[0,0] - 2*Q[0,2]*X[0,1]) +\\\n",
    "        Q[0,1]**2*Q[1,2]*Q[2,0]**2*X[1,1] + Q[0,1]*Q[1,0]*Q[2,0]*Q[2,1]*(2*Q[1,2]*X[0,1] -\\\n",
    "        Q[0,2]*X[1,1])) + ml[2]*(Q[1,2]**2*Q[2,0]**2*(-(Q[2,1]*X[0,0]) + 2*Q[0,1]*X[0,2]) -\\\n",
    "        Q[0,2]**2*Q[1,0]**2*Q[2,1]*X[2,2] + Q[1,0]*Q[1,2]*Q[2,0]*(Q[2,1]*(Q[2,2]*X[0,0] -\\\n",
    "        2*Q[0,2]*X[0,2]) + Q[0,1]*Q[0,2]*X[2,2]))))/\\\n",
    "        (ml[1]*(ml[0]*Q[1,0]*Q[2,1]*X[0,0] + Q[0,1]*(ml[1]*Q[2,1]*X[1,1] +\\\n",
    "         ml[2]*Q[1,2]*X[2,2]))*(ml[0]*Q[1,2]*Q[2,0]*X[0,0] + Q[0,2]*(ml[1]*Q[2,1]*X[1,1] +\\\n",
    "         ml[2]*Q[1,2]*X[2,2])))    \n",
    "        \n",
    "    f[0,1]=(ml[0]*Q[1,2]*Q[2,0]*X[0,0] + ml[1]*Q[0,2]*Q[2,1]*X[1,1] + ml[2]*Q[0,2]*Q[1,2]*X[2,2])/\\\n",
    "       (2*ml[0]*ml[1]*Q[0,1]*Q[1,2]*Q[2,0] - 2*ml[0]*ml[1]*Q[0,2]*Q[1,0]*Q[2,1])\n",
    "    f[0,2]=-((ml[0]*Q[1,0]*Q[2,1]*X[0,0] + ml[1]*Q[0,1]*Q[2,1]*X[1,1] + ml[2]*Q[0,1]*Q[1,2]*X[2,2])/\\\n",
    "        (2*ml[0]*ml[2]*Q[0,1]*Q[1,2]*Q[2,0] - 2*ml[0]*ml[2]*Q[0,2]*Q[1,0]*Q[2,1]))\n",
    "    f[1,2]=(ml[0]*Q[1,0]*Q[2,0]*X[0,0] + ml[1]*Q[0,1]*Q[2,0]*X[1,1] + ml[2]*Q[0,2]*Q[1,0]*X[2,2])/\\\n",
    "       (2*ml[1]*ml[2]*Q[0,1]*Q[1,2]*Q[2,0] - 2*ml[1]*ml[2]*Q[0,2]*Q[1,0]*Q[2,1])\n",
    "    f[1,0]=-f[0,1]; f[2,0]=-f[0,2]; f[2,1]=-f[1,2]\n",
    "    \n",
    "    return Q,f\n",
    "\n",
    "def test_Zee():\n",
    "    m_e=0.5109989461e-3;m_mu=0.1056583745;m_tau=1.77686\n",
    "    mlep=np.diag([m_e,m_mu,m_tau])\n",
    "    m1=0 # lightest neutrino\n",
    "    s2phi=0.014; M1=200.; M2=300.\n",
    "    X=Inverse_Zee_Matrix(Kappa(s2phi,M1,M2),m1)\n",
    "    O,f=get_yukawas(X) #Use default input values\n",
    "    Mnu=Kappa(s2phi,M1,M2)*( np.dot( np.dot(O,mlep),f.transpose() )+np.dot( np.dot(f,mlep),O.transpose()) )\n",
    "    Mnu_diag,U=np.linalg.eig(Mnu)\n",
    "    lo=np.argsort(np.abs(Mnu_diag))\n",
    "    Mnu_diag=np.array([Mnu_diag[lo[0]],Mnu_diag[lo[1]],Mnu_diag[lo[2]]])\n",
    "    U=np.matrix(U)\n",
    "    U=np.asarray(np.hstack((U[:,lo[0]],U[:,lo[1]],U[:,lo[2]])))\n",
    "    \n",
    "    mltmp,Dm21_2,Dm3l_2,theta12,theta23,theta13,delta=hp.neutrino_data()\n",
    "    m2=np.sqrt(Dm21_2[1]+m1**2); m3=np.sqrt(Dm3l_2[1]+m1**2)\n",
    "    \n",
    "    np.testing.assert_array_almost_equal(np.abs(U),\\\n",
    "        np.abs( hp.UPMNS(theta12[1],theta13[1],theta23[1]) ) )\n",
    "    \n",
    "    return np.testing.assert_almost_equal( np.abs(Mnu_diag),np.abs([m1,m2,m3]) ) "
   ]
  },
  {
   "cell_type": "code",
   "execution_count": 4,
   "metadata": {
    "collapsed": false
   },
   "outputs": [],
   "source": [
    "test_Zee()"
   ]
  },
  {
   "cell_type": "code",
   "execution_count": 5,
   "metadata": {
    "collapsed": true
   },
   "outputs": [],
   "source": [
    "def func(s2phi, M1, M2, MAo, Mho, MHo, v, lam2, lam6, lam7, lam9, lam10, lamh, Muh2, Mu22):\n",
    "    M12 = M1*M1; M22 = M2*M2; MAo2 = MAo*MAo; Mho2 = Mho*Mho; MHo2 = MHo*MHo\n",
    "    k = s2phi*np.log(M22/M12)/(4.*np.pi)**2\n",
    "    phi = 0.5*np.arcsin(s2phi)\n",
    "    Mu  = (M22-M12)*s2phi/(np.sqrt(2.0)*v)\n",
    "    MH2 = M12*(np.sin(phi))**2+M22*(np.cos(phi))**2\n",
    "    M332 = M12*(np.cos(phi))**2+M22*(np.sin(phi))**2\n",
    "    lam1 = 0.5*(MHo2+Mho2-np.sqrt((MHo2-Mho2)**2-4.0*v**4*lam6**2))/(v**2)\n",
    "    lam3 = 2.0*(MH2-Mu22)/(v**2)\n",
    "    lam4 = 0.5*(np.sqrt((MHo2-Mho2)**2-4.0*v**4*lam6**2)+MHo2+Mho2+2.0*(MAo2-2.0*MH2))/(v**2)\n",
    "    lam5 = 0.5*(np.sqrt((MHo2-Mho2)**2-4.0*v**4*lam6**2)+MHo2+Mho2-2.0*MAo2)/(v**2)\n",
    "    lam8 = 2.0*(M332-Muh2)/(v**2)\n",
    "    return k, Mu, lam1, lam3, lam4, lam5, lam8"
   ]
  },
  {
   "cell_type": "markdown",
   "metadata": {},
   "source": [
    "\n",
    "## Check one point"
   ]
  },
  {
   "cell_type": "code",
   "execution_count": 6,
   "metadata": {
    "collapsed": false
   },
   "outputs": [],
   "source": [
    "a=hep(MODEL='radinuZeeHB')"
   ]
  },
  {
   "cell_type": "markdown",
   "metadata": {},
   "source": [
    "`a-object` is an object with many attributes and methods. Use the tab to explore them. Some of them are\n",
    "* a.Series: [pandas](http://pandas.pydata.org/) Series object with the \"relevant\" variables \n",
    "* a.LHA: Input LesHouces file as [pyslha](https://pypi.python.org/pypi/pyslha/) object\n",
    "* a.runSPheno() -> a.LHA_out: return LHA output files as [pyslha](https://pypi.python.org/pypi/pyslha/) object\n",
    "* a.runmicromegas() -> a.runSPheno() -> Updated the `a-object`  with micrOMEGAS \"relevant\" output"
   ]
  },
  {
   "cell_type": "code",
   "execution_count": 7,
   "metadata": {
    "collapsed": false
   },
   "outputs": [],
   "source": [
    "v = a.vev\n",
    "s2phi = 1.4E-02\n",
    "M1 = 200.0\n",
    "M2 = 300.0\n",
    "MAo = 90.0\n",
    "Mho = 125.0\n",
    "MHo = 700.0\n",
    "lam2 = 1.3000000E-01    # lambda2Input\n",
    "lam6 = 1.000000E-03     # lambda6Inputd \n",
    "lam7 = 0.000000E+00     # lambda7Input\n",
    "lam9 = 0.000000E+00     # lambda9Input\n",
    "lam10 = 0.000000E+00    # lambda10Input\n",
    "lamh = 0.000000E+00     # lambdahInput\n",
    "Muh2 = 1.000000E+02**2      # MhInput\n",
    "Mu22 = 2.0000000E+02**2     # mEt2Input\n",
    "m_e=0.5109989461e-3;m_mu=0.1056583745;m_tau=1.77686\n",
    "mlep=np.diag([m_e,m_mu,m_tau])\n",
    "m1=0 \n",
    "\n",
    "k, Mu, lam1, lam3, lam4, lam5, lam8 = func(s2phi, M1, M2, MAo, Mho, MHo, v, lam2, lam6, lam7, lam9, lam10, lamh, Muh2, Mu22)\n",
    "\n",
    "X=Inverse_Zee_Matrix(k,m1)\n",
    "O,f=get_yukawas(X)\n",
    "\n",
    "devnull=commands.getoutput('rm -f SPheno.spc.%s' %a.MODEL)\n",
    "\n",
    "a.LHA.blocks['SPHENOINPUT'].entries[55]='0               # Calculate one loop masses'\n",
    "a.LHA.blocks['MINPAR'][1]= '%0.8E       #lambda1Input' %lam1\n",
    "a.LHA.blocks['MINPAR'][2]= '%0.8E       #lambda2Input' %lam2\n",
    "a.LHA.blocks['MINPAR'][3]= '%0.8E       #lambda3Input' %lam3\n",
    "a.LHA.blocks['MINPAR'][4]= '%0.8E       #lambda4Input' %lam4\n",
    "a.LHA.blocks['MINPAR'][5]= '%0.8E       #lambda5Input' %lam5\n",
    "a.LHA.blocks['MINPAR'][6]= '%0.8E       #lambda6Input' %lam6\n",
    "a.LHA.blocks['MINPAR'][7]= '%0.8E       #lambda7Input' %lam7\n",
    "a.LHA.blocks['MINPAR'][8]= '%0.8E       #lambda8Input' %lam8\n",
    "a.LHA.blocks['MINPAR'][9]= '%0.8E       #lambda9Input' %lam9\n",
    "a.LHA.blocks['MINPAR'][10]='%0.8E       #lambda10Input'%lam10\n",
    "a.LHA.blocks['MINPAR'][11]='%0.8E       #lambdahInput' %lamh\n",
    "a.LHA.blocks['MINPAR'][12]='%0.8E       #MhInput' %Muh2\n",
    "a.LHA.blocks['MINPAR'][13]='%0.8E       #MuInput' %Mu\n",
    "a.LHA.blocks['MINPAR'][14]='%0.8E       #mEt2Input' %Mu22\n",
    "\n",
    "for i in range(3):\n",
    "    for j in range(3):\n",
    "        a.LHA.blocks['YHIN'][i+1,j+1]='%0.8E      # Yh(%d,%d)'    %(f[i,j],i+1,j+1)\n",
    "        a.LHA.blocks['EPSEIN'][i+1,j+1]='%0.8E      # epsE(%d,%d)'    %(O[i,j],i+1,j+1) # Note ordering\n",
    "        \n",
    "slha=a.runSPheno()"
   ]
  },
  {
   "cell_type": "markdown",
   "metadata": {},
   "source": [
    "## Test"
   ]
  },
  {
   "cell_type": "code",
   "execution_count": 9,
   "metadata": {
    "collapsed": false
   },
   "outputs": [],
   "source": [
    "#Expected\n",
    "Mnu=k*( np.dot( np.dot(O,mlep),f.transpose() )+np.dot( np.dot(f,mlep),O.transpose()) )\n",
    "Mnu_diag,U=np.linalg.eig(Mnu)\n",
    "lo=np.argsort(np.abs(Mnu_diag))\n",
    "Mnu_diag=np.array([Mnu_diag[lo[0]],Mnu_diag[lo[1]],Mnu_diag[lo[2]]])\n",
    "U=np.matrix(U)\n",
    "U=np.asarray(np.hstack((U[:,lo[0]],U[:,lo[1]],U[:,lo[2]])))\n",
    "\n",
    "#Obtained\n",
    "Unew=np.zeros((3,3))\n",
    "for i in range(3):\n",
    "    for j in range(3):\n",
    "        Unew[i,j]=a.LHA_out.blocks['UVMIX'].entries[i+1,j+1]\n",
    "Mnu_diag_new=np.array([a.LHA_out.blocks['MASS'].entries[12],a.LHA_out.blocks['MASS'].entries[14],\\\n",
    "                      a.LHA_out.blocks['MASS'].entries[16]  ])"
   ]
  },
  {
   "cell_type": "code",
   "execution_count": 10,
   "metadata": {
    "collapsed": false
   },
   "outputs": [],
   "source": [
    "np.testing.assert_array_almost_equal(np.abs( Mnu_diag*1E11 ),np.abs( Mnu_diag_new*1E11 ),decimal=1)\n",
    "np.testing.assert_array_almost_equal(np.abs(U.transpose()),np.abs(Unew),decimal=3)\n",
    "np.testing.assert_array_almost_equal( np.array([Mho,MHo,MAo,M1,M2,s2phi]),\\\n",
    "    np.array([ a.LHA_out.blocks['MASS'].entries[25],\\\n",
    "    a.LHA_out.blocks['MASS'].entries[35],\\\n",
    "    a.LHA_out.blocks['MASS'].entries[36],\\\n",
    "    a.LHA_out.blocks['MASS'].entries[37],\\\n",
    "    a.LHA_out.blocks['MASS'].entries[900037],\\\n",
    "    np.sin(2*np.arcsin(a.LHA_out.blocks['CHARGEMIX'].entries[2,3])) ] ) )"
   ]
  },
  {
   "cell_type": "code",
   "execution_count": 13,
   "metadata": {
    "collapsed": false
   },
   "outputs": [
    {
     "data": {
      "text/plain": [
       "701            1.75081795E-05  # BR(mu->e gamma)\n",
       "702           1.53702757E-08  # BR(tau->e gamma)\n",
       "703          4.81067747E-10  # BR(tau->mu gamma)\n",
       "800               1.20712919E-04  # CR(mu-e, Al)\n",
       "801               2.21644746E-04  # CR(mu-e, Ti)\n",
       "802               2.95652615E-04  # CR(mu-e, Sr)\n",
       "803               3.49744067E-04  # CR(mu-e, Sb)\n",
       "804               1.92671085E-04  # CR(mu-e, Au)\n",
       "805               1.82257941E-04  # CR(mu-e, Pb)\n",
       "901                 5.43527426E-02  # BR(mu->3e)\n",
       "902                6.23982989E-05  # BR(tau->3e)\n",
       "903               3.63482273E-10  # BR(tau->3mu)\n",
       "904     8.27406442E-09  # BR(tau- -> e- mu+ mu-)\n",
       "905      1.29523069E-06  # BR(tau- -> mu- e+ e-)\n",
       "906     5.13106193E-13  # BR(tau- -> e+ mu- mu-)\n",
       "907      6.07643813E-07  # BR(tau- -> mu+ e- e-)\n",
       "1001               5.93605370E-08  # BR(Z->e mu)\n",
       "1002              2.78433682E-10  # BR(Z->e tau)\n",
       "1003             8.68218172E-12  # BR(Z->mu tau)\n",
       "1101               2.23222251E-03  # BR(h->e mu)\n",
       "1102              1.42878682E-05  # BR(h->e tau)\n",
       "1103             4.91780543E-12  # BR(h->mu tau)\n",
       "2001             2.26200985E-10  # BR(tau->e pi)\n",
       "2002            3.35151562E-11  # BR(tau->e eta)\n",
       "2003           3.69660607E-11  # BR(tau->e eta')\n",
       "2004            6.99053808E-12  # BR(tau->mu pi)\n",
       "2005           1.03347888E-12  # BR(tau->mu eta)\n",
       "2006          1.13119145E-12  # BR(tau->mu eta')\n",
       "dtype: object"
      ]
     },
     "execution_count": 13,
     "metadata": {},
     "output_type": "execute_result"
    }
   ],
   "source": [
    "pd.Series(a.LHA_out_with_comments.blocks['FLAVORKITLFV'].entries)"
   ]
  },
  {
   "cell_type": "code",
   "execution_count": null,
   "metadata": {
    "collapsed": true
   },
   "outputs": [],
   "source": []
  },
  {
   "cell_type": "markdown",
   "metadata": {},
   "source": [
    "[![Home](http://www.incredimail.com/images/nav%20bar/home-icon.png)](./) \n",
    "[Jupyter home](./draft.pdf)"
   ]
  }
 ],
 "metadata": {
  "kernelspec": {
   "display_name": "Python 2",
   "language": "python",
   "name": "python2"
  },
  "language_info": {
   "codemirror_mode": {
    "name": "ipython",
    "version": 2
   },
   "file_extension": ".py",
   "mimetype": "text/x-python",
   "name": "python",
   "nbconvert_exporter": "python",
   "pygments_lexer": "ipython2",
   "version": "2.7.9"
  }
 },
 "nbformat": 4,
 "nbformat_minor": 0
}
